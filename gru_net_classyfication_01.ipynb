{
 "cells": [
  {
   "cell_type": "code",
   "execution_count": 1,
   "metadata": {},
   "outputs": [],
   "source": [
    "import torch\n",
    "import torch.nn as nn\n",
    "import torch.optim as optim\n",
    "from torch.utils.data import DataLoader, Dataset, random_split\n",
    "from sklearn.model_selection import train_test_split\n",
    "from sklearn.metrics import accuracy_score, recall_score, f1_score, roc_curve, auc, confusion_matrix\n",
    "from imblearn.over_sampling import SMOTE\n",
    "from imblearn.under_sampling import RandomUnderSampler\n",
    "from sklearn.preprocessing import StandardScaler\n",
    "import pandas as pd\n",
    "import numpy as np\n",
    "import matplotlib.pyplot as plt"
   ]
  },
  {
   "cell_type": "code",
   "execution_count": null,
   "metadata": {},
   "outputs": [],
   "source": [
    "# Using MacBook Mps\n",
    "device = torch.device(\"mps\" if torch.backends.mps.is_available() else \"cpu\")\n"
   ]
  },
  {
   "cell_type": "code",
   "execution_count": null,
   "metadata": {},
   "outputs": [],
   "source": [
    "# 1. Preapering data:\n",
    "class CustomDataset(Dataset):\n",
    "    def __init__(self, X, y):\n",
    "        self.X = torch.tensor(X, dtype=torch.float32)\n",
    "        self.y = torch.tensor(y, dtype=torch.long)\n",
    "\n",
    "    def __len__(self):\n",
    "        return len(self.y)\n",
    "\n",
    "    def __getitem__(self, idx):\n",
    "        return self.X[idx], self.y[idx]\n"
   ]
  },
  {
   "cell_type": "code",
   "execution_count": null,
   "metadata": {},
   "outputs": [],
   "source": [
    "#2. Pandas for data preapring\n",
    "data = pd.read_excel('data_50k.xlsx')"
   ]
  },
  {
   "cell_type": "code",
   "execution_count": null,
   "metadata": {},
   "outputs": [],
   "source": [
    "# DataSeperation\n",
    "X = data.drop(columns=['Y']).values\n",
    "y = data['Y'].values"
   ]
  },
  {
   "cell_type": "code",
   "execution_count": null,
   "metadata": {},
   "outputs": [],
   "source": [
    "# removing the outliners\n",
    "from sklearn.covariance import EllipticEnvelope\n",
    "envelope = EllipticEnvelope(contamination=0.01)\n",
    "mask = envelope.fit_predict(X) == 1\n",
    "X, y = X[mask], y[mask]"
   ]
  },
  {
   "cell_type": "code",
   "execution_count": null,
   "metadata": {},
   "outputs": [],
   "source": [
    "# Standaryzation the data\n",
    "scaler = StandardScaler()\n",
    "X = scaler.fit_transform(X)"
   ]
  },
  {
   "cell_type": "code",
   "execution_count": null,
   "metadata": {},
   "outputs": [],
   "source": [
    "# Balansing the data - SMOTE + Undersampling\n",
    "smote = SMOTE(sampling_strategy=0.8, random_state=42)\n",
    "X_res, y_res = smote.fit_resample(X, y)"
   ]
  },
  {
   "cell_type": "code",
   "execution_count": 9,
   "metadata": {},
   "outputs": [],
   "source": [
    "undersample = RandomUnderSampler(sampling_strategy=0.8)\n",
    "X_res, y_res = undersample.fit_resample(X_res, y_res)"
   ]
  },
  {
   "cell_type": "code",
   "execution_count": null,
   "metadata": {},
   "outputs": [],
   "source": [
    "# Train and validate set\n",
    "X_train, X_val, y_train, y_val = train_test_split(X_res, y_res, test_size=0.2, random_state=42, stratify=y_res)\n"
   ]
  },
  {
   "cell_type": "code",
   "execution_count": null,
   "metadata": {},
   "outputs": [],
   "source": [
    "# Creating Dataset\n",
    "train_dataset = CustomDataset(X_train, y_train)\n",
    "val_dataset = CustomDataset(X_val, y_val)\n",
    "\n",
    "train_loader = DataLoader(train_dataset, batch_size=32, shuffle=True)\n",
    "val_loader = DataLoader(val_dataset, batch_size=32, shuffle=False)\n"
   ]
  },
  {
   "cell_type": "code",
   "execution_count": null,
   "metadata": {},
   "outputs": [],
   "source": [
    "# 2. Model Architecture\n",
    "class GRUNet(nn.Module):\n",
    "    def __init__(self, input_size, hidden_size, num_layers, dropout_rate, num_classes):\n",
    "        super(GRUNet, self).__init__()\n",
    "        self.gru = nn.GRU(input_size, hidden_size, num_layers, batch_first=True, dropout=dropout_rate)\n",
    "        self.fc1 = nn.Linear(hidden_size, hidden_size)\n",
    "        self.bn1 = nn.BatchNorm1d(hidden_size)\n",
    "        self.fc2 = nn.Linear(hidden_size, num_classes)\n",
    "        self.relu = nn.ReLU()\n",
    "        self.dropout = nn.Dropout(dropout_rate)\n",
    "\n",
    "    def forward(self, x):\n",
    "        x, _ = self.gru(x.unsqueeze(1))  # batch size batch_first\n",
    "        x = x[:, -1, :]  # taking the last hidden state\n",
    "        x = self.fc1(x)\n",
    "        x = self.bn1(x)\n",
    "        x = self.relu(x)\n",
    "        x = self.dropout(x)\n",
    "        x = self.fc2(x)\n",
    "        return x\n"
   ]
  },
  {
   "cell_type": "code",
   "execution_count": 13,
   "metadata": {},
   "outputs": [],
   "source": [
    "# Parametry sieci\n",
    "input_size = X.shape[1]\n",
    "hidden_size = 100\n",
    "num_layers = 3\n",
    "dropout_rate = 0.3\n",
    "num_classes = 2\n"
   ]
  },
  {
   "cell_type": "code",
   "execution_count": 14,
   "metadata": {},
   "outputs": [],
   "source": [
    "model = GRUNet(input_size, hidden_size, num_layers, dropout_rate, num_classes).to(device)\n"
   ]
  },
  {
   "cell_type": "code",
   "execution_count": null,
   "metadata": {},
   "outputs": [
    {
     "name": "stderr",
     "output_type": "stream",
     "text": [
      "/Users/lfras/anaconda3/envs/VS_nlp_01/lib/python3.8/site-packages/tqdm/auto.py:22: TqdmWarning: IProgress not found. Please update jupyter and ipywidgets. See https://ipywidgets.readthedocs.io/en/stable/user_install.html\n",
      "  from .autonotebook import tqdm as notebook_tqdm\n"
     ]
    }
   ],
   "source": [
    "# 3. Cost Function, optyoptymalizer i class weights\n",
    "weights = torch.tensor([1.0, 1.5], device=device)  # class weights \n",
    "criterion = nn.CrossEntropyLoss(weight=weights)\n",
    "optimizer = optim.Adam(model.parameters(), lr=0.0005)\n"
   ]
  },
  {
   "cell_type": "code",
   "execution_count": 16,
   "metadata": {},
   "outputs": [],
   "source": [
    "# Early stopping\n",
    "class EarlyStopping:\n",
    "    def __init__(self, patience=5):\n",
    "        self.patience = patience\n",
    "        self.counter = 0\n",
    "        self.best_score = None\n",
    "        self.early_stop = False\n",
    "\n",
    "    def __call__(self, val_loss):\n",
    "        score = -val_loss\n",
    "        if self.best_score is None or score > self.best_score:\n",
    "            self.best_score = score\n",
    "            self.counter = 0\n",
    "        else:\n",
    "            self.counter += 1\n",
    "            if self.counter >= self.patience:\n",
    "                self.early_stop = True\n"
   ]
  },
  {
   "cell_type": "code",
   "execution_count": null,
   "metadata": {},
   "outputs": [
    {
     "name": "stdout",
     "output_type": "stream",
     "text": [
      "Epoch 1, Loss: 0.5780, Val Loss: 0.5617, Acc: 0.7031, Recall: 0.7307, F1: 0.6863\n",
      "Epoch 2, Loss: 0.5663, Val Loss: 0.5602, Acc: 0.7021, Recall: 0.7477, F1: 0.6905\n",
      "Epoch 3, Loss: 0.5631, Val Loss: 0.5583, Acc: 0.7022, Recall: 0.7532, F1: 0.6921\n",
      "Epoch 4, Loss: 0.5603, Val Loss: 0.5571, Acc: 0.7067, Recall: 0.7272, F1: 0.6879\n",
      "Epoch 5, Loss: 0.5575, Val Loss: 0.5559, Acc: 0.7067, Recall: 0.7197, F1: 0.6856\n",
      "Epoch 6, Loss: 0.5566, Val Loss: 0.5541, Acc: 0.7090, Recall: 0.7326, F1: 0.6911\n",
      "Epoch 7, Loss: 0.5543, Val Loss: 0.5553, Acc: 0.7072, Recall: 0.7262, F1: 0.6879\n",
      "Epoch 8, Loss: 0.5541, Val Loss: 0.5529, Acc: 0.7135, Recall: 0.7051, F1: 0.6862\n",
      "Epoch 9, Loss: 0.5531, Val Loss: 0.5510, Acc: 0.7103, Recall: 0.7177, F1: 0.6876\n",
      "Epoch 10, Loss: 0.5507, Val Loss: 0.5507, Acc: 0.7132, Recall: 0.7297, F1: 0.6934\n",
      "Epoch 11, Loss: 0.5500, Val Loss: 0.5501, Acc: 0.7091, Recall: 0.7353, F1: 0.6919\n",
      "Epoch 12, Loss: 0.5489, Val Loss: 0.5517, Acc: 0.7101, Recall: 0.7287, F1: 0.6908\n",
      "Epoch 13, Loss: 0.5465, Val Loss: 0.5481, Acc: 0.7101, Recall: 0.7554, F1: 0.6984\n",
      "Epoch 14, Loss: 0.5454, Val Loss: 0.5462, Acc: 0.7118, Recall: 0.7388, F1: 0.6950\n",
      "Epoch 15, Loss: 0.5442, Val Loss: 0.5464, Acc: 0.7172, Recall: 0.7188, F1: 0.6932\n",
      "Epoch 16, Loss: 0.5420, Val Loss: 0.5446, Acc: 0.7169, Recall: 0.7192, F1: 0.6930\n",
      "Epoch 17, Loss: 0.5417, Val Loss: 0.5443, Acc: 0.7176, Recall: 0.7093, F1: 0.6907\n",
      "Epoch 18, Loss: 0.5408, Val Loss: 0.5425, Acc: 0.7137, Recall: 0.7505, F1: 0.6997\n",
      "Epoch 19, Loss: 0.5377, Val Loss: 0.5419, Acc: 0.7162, Recall: 0.7472, F1: 0.7006\n",
      "Epoch 20, Loss: 0.5386, Val Loss: 0.5415, Acc: 0.7196, Recall: 0.7183, F1: 0.6949\n",
      "Epoch 21, Loss: 0.5356, Val Loss: 0.5433, Acc: 0.7230, Recall: 0.7151, F1: 0.6965\n",
      "Epoch 22, Loss: 0.5348, Val Loss: 0.5398, Acc: 0.7199, Recall: 0.7413, F1: 0.7017\n",
      "Epoch 23, Loss: 0.5332, Val Loss: 0.5419, Acc: 0.7137, Recall: 0.7502, F1: 0.6996\n",
      "Epoch 24, Loss: 0.5321, Val Loss: 0.5400, Acc: 0.7225, Recall: 0.7311, F1: 0.7008\n",
      "Epoch 25, Loss: 0.5314, Val Loss: 0.5360, Acc: 0.7193, Recall: 0.7580, F1: 0.7059\n",
      "Epoch 26, Loss: 0.5296, Val Loss: 0.5389, Acc: 0.7135, Recall: 0.7694, F1: 0.7047\n",
      "Epoch 27, Loss: 0.5269, Val Loss: 0.5364, Acc: 0.7174, Recall: 0.7552, F1: 0.7037\n",
      "Epoch 28, Loss: 0.5266, Val Loss: 0.5365, Acc: 0.7260, Recall: 0.7227, F1: 0.7010\n",
      "Epoch 29, Loss: 0.5256, Val Loss: 0.5339, Acc: 0.7247, Recall: 0.7374, F1: 0.7042\n",
      "Epoch 30, Loss: 0.5256, Val Loss: 0.5358, Acc: 0.7208, Recall: 0.7497, F1: 0.7047\n",
      "Epoch 31, Loss: 0.5225, Val Loss: 0.5365, Acc: 0.7263, Recall: 0.7344, F1: 0.7046\n",
      "Epoch 32, Loss: 0.5196, Val Loss: 0.5367, Acc: 0.7286, Recall: 0.7257, F1: 0.7039\n",
      "Epoch 33, Loss: 0.5206, Val Loss: 0.5350, Acc: 0.7196, Recall: 0.7601, F1: 0.7067\n",
      "Epoch 34, Loss: 0.5205, Val Loss: 0.5323, Acc: 0.7265, Recall: 0.7451, F1: 0.7077\n",
      "Epoch 35, Loss: 0.5172, Val Loss: 0.5307, Acc: 0.7210, Recall: 0.7609, F1: 0.7079\n",
      "Epoch 36, Loss: 0.5174, Val Loss: 0.5327, Acc: 0.7297, Recall: 0.7316, F1: 0.7064\n",
      "Epoch 37, Loss: 0.5157, Val Loss: 0.5325, Acc: 0.7266, Recall: 0.7523, F1: 0.7098\n",
      "Epoch 38, Loss: 0.5147, Val Loss: 0.5326, Acc: 0.7274, Recall: 0.7523, F1: 0.7104\n",
      "Epoch 39, Loss: 0.5140, Val Loss: 0.5290, Acc: 0.7267, Recall: 0.7574, F1: 0.7113\n",
      "Epoch 40, Loss: 0.5111, Val Loss: 0.5300, Acc: 0.7318, Recall: 0.7528, F1: 0.7139\n",
      "Epoch 41, Loss: 0.5101, Val Loss: 0.5277, Acc: 0.7272, Recall: 0.7594, F1: 0.7122\n",
      "Epoch 42, Loss: 0.5097, Val Loss: 0.5276, Acc: 0.7327, Recall: 0.7460, F1: 0.7127\n",
      "Epoch 43, Loss: 0.5081, Val Loss: 0.5289, Acc: 0.7336, Recall: 0.7438, F1: 0.7127\n",
      "Epoch 44, Loss: 0.5083, Val Loss: 0.5262, Acc: 0.7302, Recall: 0.7594, F1: 0.7144\n",
      "Epoch 45, Loss: 0.5079, Val Loss: 0.5253, Acc: 0.7303, Recall: 0.7513, F1: 0.7123\n",
      "Epoch 46, Loss: 0.5057, Val Loss: 0.5244, Acc: 0.7311, Recall: 0.7611, F1: 0.7156\n",
      "Epoch 47, Loss: 0.5039, Val Loss: 0.5228, Acc: 0.7340, Recall: 0.7574, F1: 0.7168\n",
      "Epoch 48, Loss: 0.5046, Val Loss: 0.5233, Acc: 0.7313, Recall: 0.7659, F1: 0.7170\n",
      "Epoch 49, Loss: 0.5017, Val Loss: 0.5275, Acc: 0.7373, Recall: 0.7483, F1: 0.7169\n",
      "Epoch 50, Loss: 0.5012, Val Loss: 0.5265, Acc: 0.7322, Recall: 0.7621, F1: 0.7167\n",
      "Epoch 51, Loss: 0.5004, Val Loss: 0.5267, Acc: 0.7296, Recall: 0.7706, F1: 0.7170\n",
      "Epoch 52, Loss: 0.5001, Val Loss: 0.5205, Acc: 0.7308, Recall: 0.7636, F1: 0.7160\n",
      "Epoch 53, Loss: 0.4975, Val Loss: 0.5228, Acc: 0.7312, Recall: 0.7753, F1: 0.7194\n",
      "Epoch 54, Loss: 0.4986, Val Loss: 0.5203, Acc: 0.7336, Recall: 0.7656, F1: 0.7187\n",
      "Epoch 55, Loss: 0.4983, Val Loss: 0.5216, Acc: 0.7329, Recall: 0.7713, F1: 0.7196\n",
      "Epoch 56, Loss: 0.4967, Val Loss: 0.5175, Acc: 0.7371, Recall: 0.7601, F1: 0.7199\n",
      "Epoch 57, Loss: 0.4935, Val Loss: 0.5222, Acc: 0.7371, Recall: 0.7480, F1: 0.7166\n",
      "Epoch 58, Loss: 0.4942, Val Loss: 0.5201, Acc: 0.7367, Recall: 0.7663, F1: 0.7212\n",
      "Epoch 59, Loss: 0.4929, Val Loss: 0.5193, Acc: 0.7342, Recall: 0.7730, F1: 0.7210\n",
      "Epoch 60, Loss: 0.4924, Val Loss: 0.5206, Acc: 0.7328, Recall: 0.7741, F1: 0.7203\n",
      "Epoch 61, Loss: 0.4918, Val Loss: 0.5184, Acc: 0.7325, Recall: 0.7778, F1: 0.7210\n",
      "Early stopping\n"
     ]
    }
   ],
   "source": [
    "# 4. Trening the model\n",
    "early_stopping = EarlyStopping(patience=5)\n",
    "\n",
    "for epoch in range(100):\n",
    "    model.train()\n",
    "    train_loss = 0\n",
    "    for X_batch, y_batch in train_loader:\n",
    "        X_batch, y_batch = X_batch.to(device), y_batch.to(device)\n",
    "        optimizer.zero_grad()\n",
    "        outputs = model(X_batch)\n",
    "        loss = criterion(outputs, y_batch)\n",
    "        loss.backward()\n",
    "        optimizer.step()\n",
    "        train_loss += loss.item()\n",
    "\n",
    "    model.eval()\n",
    "    val_loss, y_pred, y_true = 0, [], []\n",
    "    with torch.no_grad():\n",
    "        for X_batch, y_batch in val_loader:\n",
    "            X_batch, y_batch = X_batch.to(device), y_batch.to(device)\n",
    "            outputs = model(X_batch)\n",
    "            loss = criterion(outputs, y_batch)\n",
    "            val_loss += loss.item()\n",
    "            y_pred.extend(torch.argmax(outputs, axis=1).cpu().numpy())\n",
    "            y_true.extend(y_batch.cpu().numpy())\n",
    "\n",
    "    val_loss /= len(val_loader)\n",
    "    acc = accuracy_score(y_true, y_pred)\n",
    "    recall = recall_score(y_true, y_pred)\n",
    "    f1 = f1_score(y_true, y_pred)\n",
    "\n",
    "    print(f\"Epoch {epoch+1}, Loss: {train_loss/len(train_loader):.4f}, Val Loss: {val_loss:.4f}, Acc: {acc:.4f}, Recall: {recall:.4f}, F1: {f1:.4f}\")\n",
    "\n",
    "    early_stopping(val_loss)\n",
    "    if early_stopping.early_stop:\n",
    "        print(\"Early stopping\")\n",
    "        break\n",
    "\n"
   ]
  },
  {
   "cell_type": "code",
   "execution_count": null,
   "metadata": {},
   "outputs": [
    {
     "data": {
      "image/png": "[encoded data removed]",
      "text/plain": [
       "<Figure size 640x480 with 1 Axes>"
      ]
     },
     "metadata": {},
     "output_type": "display_data"
    },
    {
     "name": "stdout",
     "output_type": "stream",
     "text": [
      "ROC AUC: 0.8212, Gini: 0.6424\n"
     ]
    }
   ],
   "source": [
    "# 5. Calculating the metrics ROC AUC & Gini\n",
    "\n",
    "probs = torch.softmax(torch.cat([model(torch.tensor(x, dtype=torch.float32, device=device).unsqueeze(0)).cpu() for x in X_val]), dim=1)\n",
    "\n",
    "\n",
    "fpr, tpr, _ = roc_curve(y_val, probs[:, 1].detach().numpy())\n",
    "roc_auc = auc(fpr, tpr)\n",
    "gini = 2 * roc_auc - 1\n",
    "\n",
    "plt.figure()\n",
    "plt.plot(fpr, tpr, label=f'ROC curve (area = {roc_auc:.2f})')\n",
    "plt.xlabel('False Positive Rate')\n",
    "plt.ylabel('True Positive Rate')\n",
    "plt.title('ROC Curve')\n",
    "plt.legend(loc=\"lower right\")\n",
    "plt.show()\n",
    "\n",
    "print(f\"ROC AUC: {roc_auc:.4f}, Gini: {gini:.4f}\")"
   ]
  },
  {
   "cell_type": "code",
   "execution_count": null,
   "metadata": {},
   "outputs": [
    {
     "name": "stdout",
     "output_type": "stream",
     "text": [
      "Model saved to 'gru_model.pth'\n"
     ]
    }
   ],
   "source": [
    "# Saving model to pth file, for using in docker&gast api  mickroservices\n",
    "torch.save(model.state_dict(), \"uru_kom_model_bestResult_ver7.pth\")\n",
    "print(\"Model saved to 'gru_model.pth'\")\n"
   ]
  }
 ],
 "metadata": {
  "kernelspec": {
   "display_name": "VS_nlp_01",
   "language": "python",
   "name": "python3"
  },
  "language_info": {
   "codemirror_mode": {
    "name": "ipython",
    "version": 3
   },
   "file_extension": ".py",
   "mimetype": "text/x-python",
   "name": "python",
   "nbconvert_exporter": "python",
   "pygments_lexer": "ipython3",
   "version": "3.8.18"
  }
 },
 "nbformat": 4,
 "nbformat_minor": 2
}
