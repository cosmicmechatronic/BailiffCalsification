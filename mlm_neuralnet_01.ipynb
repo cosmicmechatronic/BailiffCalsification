{
 "cells": [
  {
   "cell_type": "code",
   "execution_count": 23,
   "metadata": {},
   "outputs": [],
   "source": [
    "import torch\n",
    "import torch.nn as nn\n",
    "import torch.optim as optim\n",
    "from sklearn.model_selection import train_test_split\n",
    "from sklearn.metrics import accuracy_score, recall_score, f1_score, confusion_matrix, roc_curve, auc\n",
    "from sklearn.preprocessing import StandardScaler\n",
    "import pandas as pd\n",
    "import numpy as np\n",
    "import matplotlib.pyplot as plt\n",
    "import seaborn as sns"
   ]
  },
  {
   "cell_type": "code",
   "execution_count": 24,
   "metadata": {},
   "outputs": [
    {
     "name": "stderr",
     "output_type": "stream",
     "text": [
      "/var/folders/y1/phf8gpf16r3cyywg9ch583jc0000gn/T/ipykernel_13417/70805008.py:2: UserWarning: 'has_mps' is deprecated, please use 'torch.backends.mps.is_built()'\n",
      "  device = torch.device(\"mps\") if torch.has_mps else torch.device(\"cpu\")\n"
     ]
    }
   ],
   "source": [
    "# Wykorzystanie rdzeni MPS (Metal Performance Shaders na macOS)\n",
    "device = torch.device(\"mps\") if torch.has_mps else torch.device(\"cpu\")"
   ]
  },
  {
   "cell_type": "code",
   "execution_count": 25,
   "metadata": {},
   "outputs": [],
   "source": [
    "# 1. Wczytanie i przygotowanie danych\n",
    "data = pd.read_excel(\"data_50k.xlsx\")"
   ]
  },
  {
   "cell_type": "code",
   "execution_count": 26,
   "metadata": {},
   "outputs": [],
   "source": [
    "# Podział danych na cechy i etykiety\n",
    "X = data.drop(columns=['Y']).values\n",
    "y = data['Y'].values"
   ]
  },
  {
   "cell_type": "code",
   "execution_count": 27,
   "metadata": {},
   "outputs": [],
   "source": [
    "# Podział na zestaw treningowy i walidacyjny\n",
    "X_train, X_val, y_train, y_val = train_test_split(X, y, test_size=0.2, random_state=42)\n"
   ]
  },
  {
   "cell_type": "code",
   "execution_count": 28,
   "metadata": {},
   "outputs": [],
   "source": [
    "# Standaryzacja danych\n",
    "scaler = StandardScaler()\n",
    "X_train = scaler.fit_transform(X_train)\n",
    "X_val = scaler.transform(X_val)"
   ]
  },
  {
   "cell_type": "code",
   "execution_count": 29,
   "metadata": {},
   "outputs": [],
   "source": [
    "# Konwersja do tensora\n",
    "X_train_tensor = torch.tensor(X_train, dtype=torch.float32).to(device)\n",
    "X_val_tensor = torch.tensor(X_val, dtype=torch.float32).to(device)\n",
    "y_train_tensor = torch.tensor(y_train, dtype=torch.long).to(device)\n",
    "y_val_tensor = torch.tensor(y_val, dtype=torch.long).to(device)"
   ]
  },
  {
   "cell_type": "code",
   "execution_count": 30,
   "metadata": {},
   "outputs": [],
   "source": [
    "# 2. Definicja sieci MLP\n",
    "class MLP(nn.Module):\n",
    "    def __init__(self, input_size, hidden_size, num_layers, output_size):\n",
    "        super(MLP, self).__init__()\n",
    "        layers = []\n",
    "        for _ in range(num_layers):\n",
    "            layers.append(nn.Linear(input_size, hidden_size))\n",
    "            layers.append(nn.ReLU())  # Funkcja aktywacji\n",
    "            input_size = hidden_size\n",
    "        layers.append(nn.Linear(hidden_size, output_size))\n",
    "        layers.append(nn.Softmax(dim=1))  # Funkcja aktywacji na wyjściu\n",
    "        self.model = nn.Sequential(*layers)\n",
    "\n",
    "    def forward(self, x):\n",
    "        return self.model(x)\n"
   ]
  },
  {
   "cell_type": "code",
   "execution_count": 31,
   "metadata": {},
   "outputs": [],
   "source": [
    "# Parametry sieci\n",
    "input_size = 37\n",
    "hidden_size = 100\n",
    "num_layers = 100\n",
    "output_size = 2"
   ]
  },
  {
   "cell_type": "code",
   "execution_count": 32,
   "metadata": {},
   "outputs": [],
   "source": [
    "# Inicjalizacja modelu\n",
    "model = MLP(input_size, hidden_size, num_layers, output_size).to(device)"
   ]
  },
  {
   "cell_type": "code",
   "execution_count": 33,
   "metadata": {},
   "outputs": [],
   "source": [
    "# 3. Definicja funkcji kosztu i optymalizatora\n",
    "criterion = nn.CrossEntropyLoss()\n",
    "optimizer = optim.Adam(model.parameters(), lr=0.0005)"
   ]
  },
  {
   "cell_type": "code",
   "execution_count": 34,
   "metadata": {},
   "outputs": [
    {
     "name": "stdout",
     "output_type": "stream",
     "text": [
      "Epoch [10/1000], Loss: 0.6756\n",
      "Epoch [20/1000], Loss: 0.6607\n",
      "Epoch [30/1000], Loss: 0.6353\n",
      "Epoch [40/1000], Loss: 0.5814\n",
      "Epoch [50/1000], Loss: 0.5638\n",
      "Epoch [60/1000], Loss: 0.5638\n",
      "Epoch [70/1000], Loss: 0.5638\n",
      "Epoch [80/1000], Loss: 0.5638\n",
      "Epoch [90/1000], Loss: 0.5638\n",
      "Epoch [100/1000], Loss: 0.5638\n",
      "Epoch [110/1000], Loss: 0.5638\n",
      "Epoch [120/1000], Loss: 0.5638\n",
      "Epoch [130/1000], Loss: 0.5638\n",
      "Epoch [140/1000], Loss: 0.5638\n",
      "Epoch [150/1000], Loss: 0.5638\n",
      "Epoch [160/1000], Loss: 0.5638\n",
      "Epoch [170/1000], Loss: 0.5638\n",
      "Epoch [180/1000], Loss: 0.5638\n",
      "Epoch [190/1000], Loss: 0.5638\n",
      "Epoch [200/1000], Loss: 0.5638\n",
      "Epoch [210/1000], Loss: 0.5638\n",
      "Epoch [220/1000], Loss: 0.5638\n",
      "Epoch [230/1000], Loss: 0.5638\n",
      "Epoch [240/1000], Loss: 0.5638\n",
      "Epoch [250/1000], Loss: 0.5638\n",
      "Epoch [260/1000], Loss: 0.5638\n",
      "Epoch [270/1000], Loss: 0.5638\n",
      "Epoch [280/1000], Loss: 0.5638\n",
      "Epoch [290/1000], Loss: 0.5638\n",
      "Epoch [300/1000], Loss: 0.5638\n",
      "Epoch [310/1000], Loss: 0.5638\n",
      "Epoch [320/1000], Loss: 0.5638\n",
      "Epoch [330/1000], Loss: 0.5638\n",
      "Epoch [340/1000], Loss: 0.5638\n",
      "Epoch [350/1000], Loss: 0.5638\n",
      "Epoch [360/1000], Loss: 0.5638\n",
      "Epoch [370/1000], Loss: 0.5638\n",
      "Epoch [380/1000], Loss: 0.5638\n",
      "Epoch [390/1000], Loss: 0.5638\n",
      "Epoch [400/1000], Loss: 0.5638\n",
      "Epoch [410/1000], Loss: 0.5638\n",
      "Epoch [420/1000], Loss: 0.5638\n",
      "Epoch [430/1000], Loss: 0.5638\n",
      "Epoch [440/1000], Loss: 0.5638\n",
      "Epoch [450/1000], Loss: 0.5638\n",
      "Epoch [460/1000], Loss: 0.5638\n",
      "Epoch [470/1000], Loss: 0.5638\n",
      "Epoch [480/1000], Loss: 0.5638\n",
      "Epoch [490/1000], Loss: 0.5638\n",
      "Epoch [500/1000], Loss: 0.5638\n",
      "Epoch [510/1000], Loss: 0.5638\n",
      "Epoch [520/1000], Loss: 0.5638\n",
      "Epoch [530/1000], Loss: 0.5638\n",
      "Epoch [540/1000], Loss: 0.5638\n",
      "Epoch [550/1000], Loss: 0.5638\n",
      "Epoch [560/1000], Loss: 0.5638\n",
      "Epoch [570/1000], Loss: 0.5638\n",
      "Epoch [580/1000], Loss: 0.5638\n",
      "Epoch [590/1000], Loss: 0.5638\n",
      "Epoch [600/1000], Loss: 0.5638\n",
      "Epoch [610/1000], Loss: 0.5638\n",
      "Epoch [620/1000], Loss: 0.5638\n",
      "Epoch [630/1000], Loss: 0.5638\n",
      "Epoch [640/1000], Loss: 0.5638\n",
      "Epoch [650/1000], Loss: 0.5638\n",
      "Epoch [660/1000], Loss: 0.5638\n",
      "Epoch [670/1000], Loss: 0.5638\n",
      "Epoch [680/1000], Loss: 0.5638\n",
      "Epoch [690/1000], Loss: 0.5638\n",
      "Epoch [700/1000], Loss: 0.5638\n",
      "Epoch [710/1000], Loss: 0.5638\n",
      "Epoch [720/1000], Loss: 0.5638\n",
      "Epoch [730/1000], Loss: 0.5638\n",
      "Epoch [740/1000], Loss: 0.5638\n",
      "Epoch [750/1000], Loss: 0.5638\n",
      "Epoch [760/1000], Loss: 0.5638\n",
      "Epoch [770/1000], Loss: 0.5638\n",
      "Epoch [780/1000], Loss: 0.5638\n",
      "Epoch [790/1000], Loss: 0.5638\n",
      "Epoch [800/1000], Loss: 0.5638\n",
      "Epoch [810/1000], Loss: 0.5638\n",
      "Epoch [820/1000], Loss: 0.5638\n",
      "Epoch [830/1000], Loss: 0.5638\n",
      "Epoch [840/1000], Loss: 0.5638\n",
      "Epoch [850/1000], Loss: 0.5638\n",
      "Epoch [860/1000], Loss: 0.5638\n",
      "Epoch [870/1000], Loss: 0.5638\n",
      "Epoch [880/1000], Loss: 0.5638\n",
      "Epoch [890/1000], Loss: 0.5638\n",
      "Epoch [900/1000], Loss: 0.5638\n",
      "Epoch [910/1000], Loss: 0.5638\n",
      "Epoch [920/1000], Loss: 0.5638\n",
      "Epoch [930/1000], Loss: 0.5638\n",
      "Epoch [940/1000], Loss: 0.5638\n",
      "Epoch [950/1000], Loss: 0.5638\n",
      "Epoch [960/1000], Loss: 0.5638\n",
      "Epoch [970/1000], Loss: 0.5638\n",
      "Epoch [980/1000], Loss: 0.5638\n",
      "Epoch [990/1000], Loss: 0.5638\n",
      "Epoch [1000/1000], Loss: 0.5638\n"
     ]
    }
   ],
   "source": [
    "# 4. Trenowanie modelu\n",
    "epochs = 1000\n",
    "for epoch in range(epochs):\n",
    "    model.train()\n",
    "    optimizer.zero_grad()\n",
    "    outputs = model(X_train_tensor)\n",
    "    loss = criterion(outputs, y_train_tensor)\n",
    "    loss.backward()\n",
    "    optimizer.step()\n",
    "\n",
    "    # Wyświetlanie postępu co 10 epok\n",
    "    if (epoch + 1) % 10 == 0:\n",
    "        print(f\"Epoch [{epoch+1}/{epochs}], Loss: {loss.item():.4f}\")"
   ]
  },
  {
   "cell_type": "code",
   "execution_count": 40,
   "metadata": {},
   "outputs": [],
   "source": [
    "# 5. Ewaluacja modelu\n",
    "model.eval()\n",
    "with torch.no_grad():\n",
    "    y_val_probs = model(X_val_tensor)\n",
    "    y_val_pred = torch.argmax(y_val_probs, axis=1).cpu().numpy()"
   ]
  },
  {
   "cell_type": "code",
   "execution_count": 41,
   "metadata": {},
   "outputs": [
    {
     "name": "stdout",
     "output_type": "stream",
     "text": [
      "Accuracy: 0.7513\n",
      "Recall: 0.0000\n",
      "F1 Score: 0.0000\n"
     ]
    }
   ],
   "source": [
    "# Obliczenie metryk\n",
    "accuracy = accuracy_score(y_val, y_val_pred)\n",
    "recall = recall_score(y_val, y_val_pred)\n",
    "f1 = f1_score(y_val, y_val_pred)\n",
    "conf_matrix = confusion_matrix(y_val, y_val_pred)\n",
    "\n",
    "print(f\"Accuracy: {accuracy:.4f}\")\n",
    "print(f\"Recall: {recall:.4f}\")\n",
    "print(f\"F1 Score: {f1:.4f}\")"
   ]
  },
  {
   "cell_type": "code",
   "execution_count": 42,
   "metadata": {},
   "outputs": [
    {
     "data": {
      "image/png": "[encoded data removed]",
      "text/plain": [
       "<Figure size 800x600 with 2 Axes>"
      ]
     },
     "metadata": {},
     "output_type": "display_data"
    }
   ],
   "source": [
    "# Wyświetlenie macierzy konfuzji\n",
    "plt.figure(figsize=(8, 6))\n",
    "sns.heatmap(conf_matrix, annot=True, fmt='d', cmap='Blues', xticklabels=[0, 1], yticklabels=[0, 1])\n",
    "plt.xlabel('Predicted Labels')\n",
    "plt.ylabel('True Labels')\n",
    "plt.title('Confusion Matrix')\n",
    "plt.show()"
   ]
  },
  {
   "cell_type": "code",
   "execution_count": 43,
   "metadata": {},
   "outputs": [],
   "source": [
    "# 6. ROC Curve i współczynnik Giniego\n",
    "y_val_probs_np = y_val_probs[:, 1].cpu().numpy()  # Prawdopodobieństwa dla klasy 1\n",
    "fpr, tpr, thresholds = roc_curve(y_val, y_val_probs_np)\n",
    "roc_auc = auc(fpr, tpr)\n",
    "gini = 2 * roc_auc - 1"
   ]
  },
  {
   "cell_type": "code",
   "execution_count": 44,
   "metadata": {},
   "outputs": [
    {
     "data": {
      "image/png": "[encoded data removed]",
      "text/plain": [
       "<Figure size 800x600 with 1 Axes>"
      ]
     },
     "metadata": {},
     "output_type": "display_data"
    },
    {
     "name": "stdout",
     "output_type": "stream",
     "text": [
      "AUC: 0.5000\n",
      "Gini Coefficient: 0.0000\n"
     ]
    }
   ],
   "source": [
    "# Rysowanie krzywej ROC\n",
    "plt.figure(figsize=(8, 6))\n",
    "plt.plot(fpr, tpr, color='blue', lw=2, label=f'ROC curve (AUC = {roc_auc:.4f})')\n",
    "plt.plot([0, 1], [0, 1], color='gray', linestyle='--')\n",
    "plt.xlabel('False Positive Rate')\n",
    "plt.ylabel('True Positive Rate')\n",
    "plt.title('ROC Curve')\n",
    "plt.legend(loc=\"lower right\")\n",
    "plt.grid()\n",
    "plt.show()\n",
    "\n",
    "print(f\"AUC: {roc_auc:.4f}\")\n",
    "print(f\"Gini Coefficient: {gini:.4f}\")"
   ]
  }
 ],
 "metadata": {
  "kernelspec": {
   "display_name": "VS_nlp_01",
   "language": "python",
   "name": "python3"
  },
  "language_info": {
   "codemirror_mode": {
    "name": "ipython",
    "version": 3
   },
   "file_extension": ".py",
   "mimetype": "text/x-python",
   "name": "python",
   "nbconvert_exporter": "python",
   "pygments_lexer": "ipython3",
   "version": "3.8.18"
  }
 },
 "nbformat": 4,
 "nbformat_minor": 2
}
